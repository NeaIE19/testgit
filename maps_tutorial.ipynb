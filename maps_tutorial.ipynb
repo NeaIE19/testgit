{
 "cells": [
  {
   "cell_type": "markdown",
   "metadata": {},
   "source": [
    "# Tutorial dan basic penggunaan map()"
   ]
  },
  {
   "cell_type": "markdown",
   "metadata": {},
   "source": [
    "#### Understanding map()\n",
    "##### maps() akan melooping item dari inputan list atau variable dan mengembalikannya ke iterator yang menghasilkan dari pengaplikasian transformasi method ke setiap item inputan asli dari iterable atau list"
   ]
  },
  {
   "cell_type": "markdown",
   "metadata": {},
   "source": [
    "- ##### inisialisasi dari sebuah map harus menggunakan method `map()`\n",
    "- ##### di dalam documentasi `map()`. dia mengambil sebuah method dan iterator atau lebih dari iterator sebagai arguments dan mengembalikan sebuah iterator yang berisi item yang ditransformasikan\n",
    "- ##### deklarasi dari `map()` sebagai berikut\n",
    "    ##### `map(function, iterable[, iterable1, iterable2,..., iterableN])`"
   ]
  },
  {
   "cell_type": "markdown",
   "metadata": {},
   "source": [
    "- ##### menjumlahkan semua value dalam index tanpa menggunakan `map()` "
   ]
  },
  {
   "cell_type": "code",
   "execution_count": 1,
   "metadata": {},
   "outputs": [
    {
     "data": {
      "text/plain": [
       "[1, 4, 9, 16, 25]"
      ]
     },
     "execution_count": 1,
     "metadata": {},
     "output_type": "execute_result"
    }
   ],
   "source": [
    "numbers = [1, 2, 3, 4, 5]\n",
    "squared = []\n",
    "\n",
    "for num in numbers:\n",
    "    squared.append(num ** 2)\n",
    "\n",
    "squared"
   ]
  },
  {
   "cell_type": "markdown",
   "metadata": {},
   "source": [
    "- ##### menjumlahkan value di dalam index menggunakan map()"
   ]
  },
  {
   "cell_type": "markdown",
   "metadata": {},
   "source": [
    "- ##### exercise 1 : basic concept dengan mengembalikan pure function ke dalam map()"
   ]
  },
  {
   "cell_type": "code",
   "execution_count": 3,
   "metadata": {},
   "outputs": [
    {
     "data": {
      "text/plain": [
       "[8, 1, 27, 64, 125]"
      ]
     },
     "execution_count": 3,
     "metadata": {},
     "output_type": "execute_result"
    }
   ],
   "source": [
    "def square(numbers):\n",
    "    return numbers ** 3\n",
    "\n",
    "numbers = [2, 1, 3, 4, 5]\n",
    "squared = map(square, numbers)\n",
    "list(squared)"
   ]
  },
  {
   "cell_type": "markdown",
   "metadata": {},
   "source": [
    "- ##### exercise 2 : melakukan penjumlahan items list dengan lamda expressions"
   ]
  },
  {
   "cell_type": "code",
   "execution_count": 32,
   "metadata": {},
   "outputs": [
    {
     "data": {
      "text/plain": [
       "[False, True, False, True, False, False, True, False, True]"
      ]
     },
     "execution_count": 32,
     "metadata": {},
     "output_type": "execute_result"
    }
   ],
   "source": [
    "\n",
    "numbers = [1, 2, 3, 4, 7, 1, 8, 9, 0]\n",
    "sortnumbers = list(map(lambda x : x % 2 ==0, numbers))\n",
    "sortnumbers"
   ]
  },
  {
   "cell_type": "markdown",
   "metadata": {},
   "source": [
    "- ##### exercise 3 : sorting menggunakan algoritma buble sort"
   ]
  },
  {
   "cell_type": "code",
   "execution_count": 59,
   "metadata": {},
   "outputs": [
    {
     "data": {
      "text/plain": [
       "[[], [], []]"
      ]
     },
     "execution_count": 59,
     "metadata": {},
     "output_type": "execute_result"
    }
   ],
   "source": [
    "def sort_tuples(courses):\n",
    "    lst = []\n",
    "    courses = len(lst)\n",
    "    for i in range(0, courses):\n",
    "        for j in range(0, courses - i - 1):\n",
    "            if(lst[j][1] > lst[j + 1][1]):\n",
    "                temp = lst[j]\n",
    "                lst[j] = lst[j + 1]\n",
    "                lst[j + 1] = temp\n",
    "    return lst\n",
    "\n",
    "numbers = [(2, 3), (1, 4), (5, 6)]\n",
    "sortnum = map(sort_tuples, numbers)\n",
    "list(sortnum)"
   ]
  },
  {
   "cell_type": "markdown",
   "metadata": {},
   "source": [
    "- ##### exercise 4 : menggunakan map() dengan beberapa function berbeda"
   ]
  },
  {
   "cell_type": "code",
   "execution_count": 60,
   "metadata": {},
   "outputs": [
    {
     "data": {
      "text/plain": [
       "[7, 2, 10]"
      ]
     },
     "execution_count": 60,
     "metadata": {},
     "output_type": "execute_result"
    }
   ],
   "source": [
    "numbers = [-2, -1, 0, 1, 2]\n",
    "abs_values = list(map(abs, numbers))\n",
    "abs_values\n",
    "\n",
    "#convert integer to float\n",
    "list(map(float, numbers))\n",
    "\n",
    "words = [\"welcome\", \"to\", \"aufklarung\"]\n",
    "list(map(len, words))\n"
   ]
  },
  {
   "cell_type": "markdown",
   "metadata": {},
   "source": [
    "- ##### exercise 5 : convert string ke integer"
   ]
  },
  {
   "cell_type": "code",
   "execution_count": 100,
   "metadata": {},
   "outputs": [
    {
     "data": {
      "text/plain": [
       "['4', '8', '6', '5', '3', '2', '8', '9', '2', '5']"
      ]
     },
     "execution_count": 100,
     "metadata": {},
     "output_type": "execute_result"
    }
   ],
   "source": [
    "str_nums = [\"4\", \"8\", \"6\", \"5\", \"3\", \"2\", \"8\", \"9\", \"2\", \"5\"]\n",
    "int_nums = list(map(int, str_nums))\n",
    "int_nums\n",
    "str_numsagains = list(map(str, int_nums))\n",
    "str_numsagains\n",
    "# str_nums"
   ]
  },
  {
   "cell_type": "markdown",
   "metadata": {},
   "source": [
    "- ##### exercise 6 : menjumlahkan kedua buah list "
   ]
  },
  {
   "cell_type": "code",
   "execution_count": 114,
   "metadata": {},
   "outputs": [
    {
     "data": {
      "text/plain": [
       "[1, 4, 27]"
      ]
     },
     "execution_count": 114,
     "metadata": {},
     "output_type": "execute_result"
    }
   ],
   "source": [
    "list1 = [1, 2, 3, 1]\n",
    "list2 = [1, 2, 3]\n",
    "list(map(lambda x, y : x ** y, list1, list2))"
   ]
  },
  {
   "cell_type": "markdown",
   "metadata": {},
   "source": [
    "- ##### exercise 7 : mengurangkan kedua buah list menggunakan lambda expressions"
   ]
  },
  {
   "cell_type": "code",
   "execution_count": 69,
   "metadata": {},
   "outputs": [
    {
     "data": {
      "text/plain": [
       "[1, 1, 2]"
      ]
     },
     "execution_count": 69,
     "metadata": {},
     "output_type": "execute_result"
    }
   ],
   "source": [
    "list(map(lambda x, y : x - y, [2, 4, 6], [1, 3, 4]))"
   ]
  },
  {
   "cell_type": "code",
   "execution_count": 127,
   "metadata": {},
   "outputs": [
    {
     "data": {
      "text/plain": [
       "[<function str.capitalize()>,\n",
       " <function str.capitalize()>,\n",
       " <function str.capitalize()>,\n",
       " <function str.capitalize()>]"
      ]
     },
     "execution_count": 127,
     "metadata": {},
     "output_type": "execute_result"
    }
   ],
   "source": [
    "def ident(x):\n",
    "    x = str\n",
    "    return x.capitalize\n",
    "string_it = [\"processing\", \"strings\", \"with\", \"map\"]\n",
    "# list(map(str.capitalize, string_it))\n",
    "list(map(lambda x = str : x.capitalize, string_it))\n"
   ]
  },
  {
   "cell_type": "code",
   "execution_count": 125,
   "metadata": {},
   "outputs": [
    {
     "data": {
      "text/plain": [
       "['processing', 'strings', 'with', 'map']"
      ]
     },
     "execution_count": 125,
     "metadata": {},
     "output_type": "execute_result"
    }
   ],
   "source": [
    "with_dots = [\"processing..\", \"...strings\", \"with....\", \"..map..\"]\n",
    "list(map(lambda s: s.strip(\".\"), with_dots))\n"
   ]
  }
 ],
 "metadata": {
  "interpreter": {
   "hash": "e7370f93d1d0cde622a1f8e1c04877d8463912d04d973331ad4851f04de6915a"
  },
  "kernelspec": {
   "display_name": "Python 3.10.2 64-bit",
   "language": "python",
   "name": "python3"
  },
  "language_info": {
   "codemirror_mode": {
    "name": "ipython",
    "version": 3
   },
   "file_extension": ".py",
   "mimetype": "text/x-python",
   "name": "python",
   "nbconvert_exporter": "python",
   "pygments_lexer": "ipython3",
   "version": "3.10.3"
  },
  "orig_nbformat": 4
 },
 "nbformat": 4,
 "nbformat_minor": 2
}
